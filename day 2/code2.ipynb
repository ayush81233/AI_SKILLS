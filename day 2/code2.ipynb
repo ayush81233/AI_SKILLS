{
 "cells": [
  {
   "cell_type": "code",
   "execution_count": 1,
   "id": "dab89b23-6671-4a99-92f0-ecd982041af0",
   "metadata": {},
   "outputs": [
    {
     "name": "stdout",
     "output_type": "stream",
     "text": [
      "Carbon footprint : 475.0 kg C02\n"
     ]
    }
   ],
   "source": [
    "def calculate_carbon_footprint(energy_consumption, emission_factor):\n",
    "    return energy_consumption * emission_factor\n",
    "energy_consumption = 1000\n",
    "emission_factor = 0.475\n",
    "carbon_footprint = calculate_carbon_footprint(energy_consumption, emission_factor)\n",
    "print(f\"Carbon footprint : {carbon_footprint} kg C02\")"
   ]
  },
  {
   "cell_type": "code",
   "execution_count": 2,
   "id": "00b29988-5ac0-4924-83a9-62f400f5f4ab",
   "metadata": {},
   "outputs": [],
   "source": [
    "import pandas as pd\n",
    "\n",
    "# Sample renewable energy sources data\n",
    "renewable_sources = [\"Solar\", \"Wind\", \"Hydropower\", \"Geothermal\", \"Biomass\"]\n",
    "\n",
    "# Sample green technology project data (for DataFrame)\n",
    "data = {\n",
    "    \"Project\": [\"Solar Farm A\", \"Wind Turbine X\", \"Hydropower Y\", \"Solar Roof Z\", \"Geothermal Plant P\"],\n",
    "    \"Technology\": [\"Solar\", \"Wind\", \"Hydropower\", \"Solar\", \"Geothermal\"],\n",
    "    \"Capacity (MW)\": [150, 300, 200, 50, 100],  # Megawatts\n",
    "    \"Cost (Million $)\": [200, 400, 350, 100, 250],  # Project cost\n",
    "    \"Location\": [\"California\", \"Texas\", \"Washington\", \"Nevada\", \"Idaho\"],\n",
    "    \"Completion Year\": [2023, 2024, 2022, 2025, 2023]\n",
    "}"
   ]
  },
  {
   "cell_type": "code",
   "execution_count": 3,
   "id": "f67dacdf-c727-43d9-aadb-0522ceef8970",
   "metadata": {},
   "outputs": [
    {
     "name": "stdout",
     "output_type": "stream",
     "text": [
      "renewable energy source:\n",
      "0         Solar\n",
      "1          Wind\n",
      "2    Hydropower\n",
      "3    Geothermal\n",
      "4       Biomass\n",
      "dtype: object\n"
     ]
    }
   ],
   "source": [
    "renewable_series=pd.Series(renewable_sources)\n",
    "print(\"renewable energy source:\")\n",
    "print(renewable_series)"
   ]
  },
  {
   "cell_type": "code",
   "execution_count": 4,
   "id": "6b2c4179-76e5-44fc-b51f-827f081ce9a3",
   "metadata": {},
   "outputs": [
    {
     "name": "stdout",
     "output_type": "stream",
     "text": [
      "\n",
      "Green Technology Projects DataFrame:\n",
      "              Project  Technology  Capacity (MW)  Cost (Million $)  \\\n",
      "0        Solar Farm A       Solar            150               200   \n",
      "1      Wind Turbine X        Wind            300               400   \n",
      "2        Hydropower Y  Hydropower            200               350   \n",
      "3        Solar Roof Z       Solar             50               100   \n",
      "4  Geothermal Plant P  Geothermal            100               250   \n",
      "\n",
      "     Location  Completion Year  \n",
      "0  California             2023  \n",
      "1       Texas             2024  \n",
      "2  Washington             2022  \n",
      "3      Nevada             2025  \n",
      "4       Idaho             2023  \n"
     ]
    }
   ],
   "source": [
    "project_df = pd.DataFrame(data)\n",
    "print(\"\\nGreen Technology Projects DataFrame:\")\n",
    "print(project_df)"
   ]
  },
  {
   "cell_type": "code",
   "execution_count": 5,
   "id": "c8524652-9064-4c03-a9a1-a0bf5faf4c63",
   "metadata": {},
   "outputs": [
    {
     "name": "stdout",
     "output_type": "stream",
     "text": [
      "\n",
      "List of projects:\n",
      "0          Solar Farm A\n",
      "1        Wind Turbine X\n",
      "2          Hydropower Y\n",
      "3          Solar Roof Z\n",
      "4    Geothermal Plant P\n",
      "Name: Project, dtype: object\n"
     ]
    }
   ],
   "source": [
    "print(\"\\nList of projects:\")\n",
    "print(project_df[\"Project\"]) "
   ]
  },
  {
   "cell_type": "code",
   "execution_count": 6,
   "id": "32119d8c-18a3-440e-a3c9-e97987eda222",
   "metadata": {},
   "outputs": [
    {
     "name": "stdout",
     "output_type": "stream",
     "text": [
      "\n",
      "Projects with Capacity Greater than 100 MW:\n",
      "          Project  Technology  Capacity (MW)  Cost (Million $)    Location  \\\n",
      "0    Solar Farm A       Solar            150               200  California   \n",
      "1  Wind Turbine X        Wind            300               400       Texas   \n",
      "2    Hydropower Y  Hydropower            200               350  Washington   \n",
      "\n",
      "   Completion Year  \n",
      "0             2023  \n",
      "1             2024  \n",
      "2             2022  \n"
     ]
    }
   ],
   "source": [
    "# Filter projects with capacity greater than 100 MW\n",
    "high_capacity_projects = project_df[project_df[\"Capacity (MW)\"] > 100]\n",
    "\n",
    "print(\"\\nProjects with Capacity Greater than 100 MW:\")\n",
    "print(high_capacity_projects)\n"
   ]
  },
  {
   "cell_type": "code",
   "execution_count": 7,
   "id": "ffbef5d3-0b03-487b-8e1f-2b6626f4994a",
   "metadata": {},
   "outputs": [
    {
     "name": "stdout",
     "output_type": "stream",
     "text": [
      "\n",
      "Total Capacity of all projects: 800 MW\n",
      "Total Cost of all projects: $1300 million\n"
     ]
    }
   ],
   "source": [
    "# Aggregate the total capacity and cost\n",
    "total_capacity = project_df[\"Capacity (MW)\"].sum()\n",
    "total_cost = project_df[\"Cost (Million $)\"].sum()\n",
    "\n",
    "print(f\"\\nTotal Capacity of all projects: {total_capacity} MW\")\n",
    "print(f\"Total Cost of all projects: ${total_cost} million\")\n"
   ]
  },
  {
   "cell_type": "code",
   "execution_count": 8,
   "id": "911d07c4-8191-445f-8c9e-e78922b2c270",
   "metadata": {},
   "outputs": [
    {
     "name": "stdout",
     "output_type": "stream",
     "text": [
      "\n",
      "Total Capacity by Technology:\n",
      "Technology\n",
      "Geothermal    100\n",
      "Hydropower    200\n",
      "Solar         200\n",
      "Wind          300\n",
      "Name: Capacity (MW), dtype: int64\n"
     ]
    }
   ],
   "source": [
    "# Group by 'Technology' and calculate total capacity for each type\n",
    "grouped_data = project_df.groupby(\"Technology\")[\"Capacity (MW)\"].sum()\n",
    "\n",
    "print(\"\\nTotal Capacity by Technology:\")\n",
    "print(grouped_data)\n"
   ]
  },
  {
   "cell_type": "code",
   "execution_count": 9,
   "id": "2063d5a4-7572-4eeb-ba9e-68998e44596f",
   "metadata": {},
   "outputs": [
    {
     "name": "stdout",
     "output_type": "stream",
     "text": [
      "Energy Consumption (in MWh) for Different Renewable Sources:\n",
      "[1200 3400 2900 1800 2500]\n"
     ]
    }
   ],
   "source": [
    "import numpy as np\n",
    "\n",
    "# Energy consumption in MWh for different renewable sources: Solar, Wind, Hydro, etc.\n",
    "energy_consumption = np.array([1200, 3400, 2900, 1800, 2500])\n",
    "\n",
    "# Print the array\n",
    "print(\"Energy Consumption (in MWh) for Different Renewable Sources:\")\n",
    "print(energy_consumption)"
   ]
  },
  {
   "cell_type": "code",
   "execution_count": 10,
   "id": "3320990f-755c-4cf3-83e2-d503782ef80c",
   "metadata": {},
   "outputs": [
    {
     "name": "stdout",
     "output_type": "stream",
     "text": [
      "\n",
      "Total Energy Consumption: 11800 MWh\n"
     ]
    }
   ],
   "source": [
    "# Calculate the total energy consumption\n",
    "total_consumption = np.sum(energy_consumption)\n",
    "\n",
    "print(f\"\\nTotal Energy Consumption: {total_consumption} MWh\")"
   ]
  },
  {
   "cell_type": "code",
   "execution_count": 11,
   "id": "21410ec6-5d2d-4eb9-a475-2861e257696c",
   "metadata": {},
   "outputs": [
    {
     "name": "stdout",
     "output_type": "stream",
     "text": [
      "\n",
      "Total Energy Consumption: 2360.0 MWh\n"
     ]
    }
   ],
   "source": [
    "total_consumption = np.mean(energy_consumption)\n",
    "\n",
    "print(f\"\\nTotal Energy Consumption: {total_consumption} MWh\")"
   ]
  },
  {
   "cell_type": "code",
   "execution_count": 12,
   "id": "1d85150c-4f6e-4a87-9523-12d4635fb676",
   "metadata": {},
   "outputs": [
    {
     "name": "stdout",
     "output_type": "stream",
     "text": [
      "\n",
      "Total Energy Consumption: 781.2809993849844 MWh\n"
     ]
    }
   ],
   "source": [
    "total_consumption = np.std(energy_consumption)\n",
    "\n",
    "print(f\"\\nTotal Energy Consumption: {total_consumption} MWh\")"
   ]
  },
  {
   "cell_type": "code",
   "execution_count": 13,
   "id": "1e5e57e3-4301-489f-b2a1-41cf2b4bcd4b",
   "metadata": {},
   "outputs": [
    {
     "name": "stdout",
     "output_type": "stream",
     "text": [
      "\n",
      "Reshaped Energy Consumption Array (5x1):\n",
      "[[1200]\n",
      " [3400]\n",
      " [2900]\n",
      " [1800]\n",
      " [2500]]\n"
     ]
    }
   ],
   "source": [
    "# Reshape the array (to 5 rows and 1 column)\n",
    "reshaped_array = energy_consumption.reshape((5, 1))\n",
    "\n",
    "print(\"\\nReshaped Energy Consumption Array (5x1):\")\n",
    "print(reshaped_array)"
   ]
  },
  {
   "cell_type": "code",
   "execution_count": 14,
   "id": "16f64fa9-55a1-4498-a033-499f21d4975e",
   "metadata": {},
   "outputs": [
    {
     "name": "stdout",
     "output_type": "stream",
     "text": [
      "Original Energy Data with Missing Values:\n",
      "  Energy Source  Energy Consumption (Mwh)  Cost (Million $)\n",
      "0         Solar                    1200.0             200.0\n",
      "1          Wind                       NaN             400.0\n",
      "2    Hydropower                    2900.0               NaN\n",
      "3    Geothermal                       NaN             150.0\n",
      "4       Biomass                    2500.0             250.0\n",
      "5       Nuclear                    3200.0               NaN\n"
     ]
    }
   ],
   "source": [
    "import pandas as pd\n",
    "import numpy as np\n",
    "\n",
    "# Sample data with missing values\n",
    "data = {\n",
    "    \"Energy Source\": [\"Solar\", \"Wind\", \"Hydropower\", \"Geothermal\", \"Biomass\", \"Nuclear\"],\n",
    "    \"Energy Consumption (Mwh)\": [1200, np.nan, 2900, np.nan, 2500, 3200],\n",
    "    \"Cost (Million $)\": [200, 400, np.nan, 150, 250, np.nan]\n",
    "}\n",
    "\n",
    "# Create a DataFrame\n",
    "energy_df = pd.DataFrame(data)\n",
    "\n",
    "print(\"Original Energy Data with Missing Values:\")\n",
    "print(energy_df)"
   ]
  },
  {
   "cell_type": "code",
   "execution_count": 15,
   "id": "2a013d68-c468-4bb8-907c-d1a6e95cb65c",
   "metadata": {},
   "outputs": [
    {
     "name": "stdout",
     "output_type": "stream",
     "text": [
      "\n",
      "Data After Removing Rows with Missing Values:\n",
      "  Energy Source  Energy Consumption (Mwh)  Cost (Million $)\n",
      "0         Solar                    1200.0             200.0\n",
      "4       Biomass                    2500.0             250.0\n"
     ]
    }
   ],
   "source": [
    "# Remove rows with any missing values\n",
    "cleaned_df = energy_df.dropna()\n",
    "\n",
    "print(\"\\nData After Removing Rows with Missing Values:\")\n",
    "print(cleaned_df)\n"
   ]
  },
  {
   "cell_type": "code",
   "execution_count": 16,
   "id": "4a9256d5-5fd4-4bae-b742-d1aefde75e5b",
   "metadata": {},
   "outputs": [
    {
     "name": "stdout",
     "output_type": "stream",
     "text": [
      "\n",
      "Data After Forward Filling:\n",
      "  Energy Source  Energy Consumption (Mwh)  Cost (Million $)\n",
      "0         Solar                    1200.0             200.0\n",
      "1          Wind                    1200.0             400.0\n",
      "2    Hydropower                    2900.0             400.0\n",
      "3    Geothermal                    2900.0             150.0\n",
      "4       Biomass                    2500.0             250.0\n",
      "5       Nuclear                    3200.0             250.0\n"
     ]
    },
    {
     "name": "stderr",
     "output_type": "stream",
     "text": [
      "C:\\Users\\admin\\AppData\\Local\\Temp\\ipykernel_4328\\628832294.py:2: FutureWarning: DataFrame.fillna with 'method' is deprecated and will raise in a future version. Use obj.ffill() or obj.bfill() instead.\n",
      "  forward_filled_df = energy_df.fillna(method=\"ffill\")\n"
     ]
    }
   ],
   "source": [
    "# Forward fill missing values\n",
    "forward_filled_df = energy_df.fillna(method=\"ffill\")\n",
    "\n",
    "print(\"\\nData After Forward Filling:\")\n",
    "print(forward_filled_df)"
   ]
  },
  {
   "cell_type": "code",
   "execution_count": 17,
   "id": "72a4fc67-a309-4a0f-968c-7054e71332eb",
   "metadata": {},
   "outputs": [
    {
     "name": "stdout",
     "output_type": "stream",
     "text": [
      "\n",
      "Data After Imputing Missing Values with Mean:\n",
      "  Energy Source  Energy Consumption (Mwh)  Cost (Million $)\n",
      "0         Solar                    1200.0             200.0\n",
      "1          Wind                    2450.0             400.0\n",
      "2    Hydropower                    2900.0             250.0\n",
      "3    Geothermal                    2450.0             150.0\n",
      "4       Biomass                    2500.0             250.0\n",
      "5       Nuclear                    3200.0             250.0\n"
     ]
    },
    {
     "name": "stderr",
     "output_type": "stream",
     "text": [
      "C:\\Users\\admin\\AppData\\Local\\Temp\\ipykernel_4328\\2992010394.py:2: FutureWarning: A value is trying to be set on a copy of a DataFrame or Series through chained assignment using an inplace method.\n",
      "The behavior will change in pandas 3.0. This inplace method will never work because the intermediate object on which we are setting values always behaves as a copy.\n",
      "\n",
      "For example, when doing 'df[col].method(value, inplace=True)', try using 'df.method({col: value}, inplace=True)' or df[col] = df[col].method(value) instead, to perform the operation inplace on the original object.\n",
      "\n",
      "\n",
      "  energy_df['Energy Consumption (Mwh)'].fillna(energy_df['Energy Consumption (Mwh)'].mean(), inplace=True)\n",
      "C:\\Users\\admin\\AppData\\Local\\Temp\\ipykernel_4328\\2992010394.py:5: FutureWarning: A value is trying to be set on a copy of a DataFrame or Series through chained assignment using an inplace method.\n",
      "The behavior will change in pandas 3.0. This inplace method will never work because the intermediate object on which we are setting values always behaves as a copy.\n",
      "\n",
      "For example, when doing 'df[col].method(value, inplace=True)', try using 'df.method({col: value}, inplace=True)' or df[col] = df[col].method(value) instead, to perform the operation inplace on the original object.\n",
      "\n",
      "\n",
      "  energy_df['Cost (Million $)'].fillna(energy_df['Cost (Million $)'].mean(), inplace=True)\n"
     ]
    }
   ],
   "source": [
    "# Impute missing values in 'Energy Consumption (MWh)' with the mean\n",
    "energy_df['Energy Consumption (Mwh)'].fillna(energy_df['Energy Consumption (Mwh)'].mean(), inplace=True)\n",
    "\n",
    "# Impute missing values in 'Cost (Million $)' with the mean\n",
    "energy_df['Cost (Million $)'].fillna(energy_df['Cost (Million $)'].mean(), inplace=True)\n",
    "\n",
    "print(\"\\nData After Imputing Missing Values with Mean:\")\n",
    "print(energy_df)\n"
   ]
  },
  {
   "cell_type": "code",
   "execution_count": 18,
   "id": "85aa19d0-2e08-43c4-b350-62df7d57a0c3",
   "metadata": {},
   "outputs": [
    {
     "name": "stdout",
     "output_type": "stream",
     "text": [
      "\n",
      "Data with Missing Values Flagged:\n",
      "  Energy Source  Energy Consumption (Mwh)  Cost (Million $)  \\\n",
      "0         Solar                    1200.0             200.0   \n",
      "1          Wind                    2450.0             400.0   \n",
      "2    Hydropower                    2900.0             250.0   \n",
      "3    Geothermal                    2450.0             150.0   \n",
      "4       Biomass                    2500.0             250.0   \n",
      "5       Nuclear                    3200.0             250.0   \n",
      "\n",
      "   Missing Consumption  \n",
      "0                    0  \n",
      "1                    0  \n",
      "2                    0  \n",
      "3                    0  \n",
      "4                    0  \n",
      "5                    0  \n"
     ]
    }
   ],
   "source": [
    "energy_df['Missing Consumption'] = energy_df['Energy Consumption (Mwh)'].isna().astype(int)\n",
    "print(\"\\nData with Missing Values Flagged:\")\n",
    "print(energy_df)\n"
   ]
  },
  {
   "cell_type": "code",
   "execution_count": 19,
   "id": "533dc479-8b54-410b-ae10-faa70b17f831",
   "metadata": {},
   "outputs": [
    {
     "name": "stdout",
     "output_type": "stream",
     "text": [
      "\n",
      "Data After Normalization (Min-Max Scaling):\n",
      "  Energy Source  Energy Consumption (Mwh)  Cost (Million $)  \\\n",
      "0         Solar                     0.000               0.2   \n",
      "1          Wind                     0.625               1.0   \n",
      "2    Hydropower                     0.850               0.4   \n",
      "3    Geothermal                     0.625               0.0   \n",
      "4       Biomass                     0.650               0.4   \n",
      "5       Nuclear                     1.000               0.4   \n",
      "\n",
      "   Missing Consumption  \n",
      "0                    0  \n",
      "1                    0  \n",
      "2                    0  \n",
      "3                    0  \n",
      "4                    0  \n",
      "5                    0  \n"
     ]
    }
   ],
   "source": [
    "from sklearn.preprocessing import MinMaxScaler\n",
    "scaler = MinMaxScaler()\n",
    "energy_df[['Energy Consumption (Mwh)', 'Cost (Million $)']] = scaler.fit_transform(\n",
    "    energy_df[['Energy Consumption (Mwh)', 'Cost (Million $)']]\n",
    ")\n",
    "\n",
    "print(\"\\nData After Normalization (Min-Max Scaling):\")\n",
    "print(energy_df)\n"
   ]
  },
  {
   "cell_type": "code",
   "execution_count": 20,
   "id": "3a5d5df6-28b3-4788-a581-64427f65e9bf",
   "metadata": {},
   "outputs": [
    {
     "name": "stdout",
     "output_type": "stream",
     "text": [
      "  Energy Source  Energy Consumption (Mwh)  Cost (Million $)  \\\n",
      "0         Solar             -2.005893e+00     -6.546537e-01   \n",
      "1          Wind              3.563181e-16      1.963961e+00   \n",
      "2    Hydropower              7.221213e-01      1.817029e-16   \n",
      "3    Geothermal              3.563181e-16     -1.309307e+00   \n",
      "4       Biomass              8.023570e-02      1.817029e-16   \n",
      "5       Nuclear              1.203536e+00      1.817029e-16   \n",
      "\n",
      "   Missing Consumption  \n",
      "0                    0  \n",
      "1                    0  \n",
      "2                    0  \n",
      "3                    0  \n",
      "4                    0  \n",
      "5                    0  \n"
     ]
    }
   ],
   "source": [
    "from sklearn.preprocessing import StandardScaler\n",
    "scaler = StandardScaler()\n",
    "energy_df[[\"Energy Consumption (Mwh)\", \"Cost (Million $)\"]] = scaler.fit_transform(\n",
    "    energy_df[[\"Energy Consumption (Mwh)\", \"Cost (Million $)\"]]\n",
    ")\n",
    "print(energy_df)"
   ]
  },
  {
   "cell_type": "code",
   "execution_count": 21,
   "id": "21bdb8ff-5345-410d-b140-c6d3f0ee15b1",
   "metadata": {},
   "outputs": [
    {
     "name": "stdout",
     "output_type": "stream",
     "text": [
      "\n",
      "Data After One-Hot Encoding Categorical Variables:\n",
      "   Energy Consumption (Mwh)  Cost (Million $)  Missing Consumption  \\\n",
      "0             -2.005893e+00     -6.546537e-01                    0   \n",
      "1              3.563181e-16      1.963961e+00                    0   \n",
      "2              7.221213e-01      1.817029e-16                    0   \n",
      "3              3.563181e-16     -1.309307e+00                    0   \n",
      "4              8.023570e-02      1.817029e-16                    0   \n",
      "5              1.203536e+00      1.817029e-16                    0   \n",
      "\n",
      "   Energy Source_Biomass  Energy Source_Geothermal  Energy Source_Hydropower  \\\n",
      "0                  False                     False                     False   \n",
      "1                  False                     False                     False   \n",
      "2                  False                     False                      True   \n",
      "3                  False                      True                     False   \n",
      "4                   True                     False                     False   \n",
      "5                  False                     False                     False   \n",
      "\n",
      "   Energy Source_Nuclear  Energy Source_Solar  Energy Source_Wind  \n",
      "0                  False                 True               False  \n",
      "1                  False                False                True  \n",
      "2                  False                False               False  \n",
      "3                  False                False               False  \n",
      "4                  False                False               False  \n",
      "5                   True                False               False  \n"
     ]
    }
   ],
   "source": [
    "energy_encoded_df = pd.get_dummies(energy_df, columns=[\"Energy Source\"])\n",
    "print(\"\\nData After One-Hot Encoding Categorical Variables:\")\n",
    "print(energy_encoded_df)"
   ]
  },
  {
   "cell_type": "code",
   "execution_count": 22,
   "id": "b618d613-a8a8-4295-8418-0ffb74ef6060",
   "metadata": {},
   "outputs": [
    {
     "ename": "NameError",
     "evalue": "name 'energ_encoded_df' is not defined",
     "output_type": "error",
     "traceback": [
      "\u001b[31m---------------------------------------------------------------------------\u001b[39m",
      "\u001b[31mNameError\u001b[39m                                 Traceback (most recent call last)",
      "\u001b[36mCell\u001b[39m\u001b[36m \u001b[39m\u001b[32mIn[22]\u001b[39m\u001b[32m, line 6\u001b[39m\n\u001b[32m      1\u001b[39m \u001b[38;5;66;03m# 2.4 Feature Engineering\u001b[39;00m\n\u001b[32m      2\u001b[39m \n\u001b[32m      3\u001b[39m \u001b[38;5;66;03m# We can create a new feature that represents the ratio of energy consumption to cost.\u001b[39;00m\n\u001b[32m      4\u001b[39m \n\u001b[32m      5\u001b[39m \u001b[38;5;66;03m# Create a new feature: Energy Consumption per Million $\u001b[39;00m\n\u001b[32m----> \u001b[39m\u001b[32m6\u001b[39m energ_encoded_df[\u001b[33m\"\u001b[39m\u001b[33mConsumption per $Million\u001b[39m\u001b[33m\"\u001b[39m] = energy_encoded_df[\u001b[33m\"\u001b[39m\u001b[33mEnergy Consumption (Mwh)\u001b[39m\u001b[33m\"\u001b[39m] / \u001b[43menerg_encoded_df\u001b[49m[\u001b[33m\"\u001b[39m\u001b[33mCost (Million $)\u001b[39m\u001b[33m\"\u001b[39m]\n\u001b[32m      8\u001b[39m \u001b[38;5;28mprint\u001b[39m(\u001b[33m\"\u001b[39m\u001b[33mData with new feature (Consumption per $Million):\u001b[39m\u001b[33m\"\u001b[39m)\n\u001b[32m      9\u001b[39m \u001b[38;5;28mprint\u001b[39m(energ_encoded_df)\n",
      "\u001b[31mNameError\u001b[39m: name 'energ_encoded_df' is not defined"
     ]
    }
   ],
   "source": [
    "# 2.4 Feature Engineering\n",
    "\n",
    "# We can create a new feature that represents the ratio of energy consumption to cost.\n",
    "\n",
    "# Create a new feature: Energy Consumption per Million $\n",
    "energ_encoded_df[\"Consumption per $Million\"] = energy_encoded_df[\"Energy Consumption (Mwh)\"] / energ_encoded_df[\"Cost (Million $)\"]\n",
    "\n",
    "print(\"Data with new feature (Consumption per $Million):\")\n",
    "print(energ_encoded_df)\n"
   ]
  },
  {
   "cell_type": "code",
   "execution_count": null,
   "id": "1b739ddc-9f1b-434f-8790-690e1693113f",
   "metadata": {},
   "outputs": [],
   "source": [
    "# Create a new feature: Energy Consumption per Million $\n",
    "energy_encoded_df[\"Consumption per $Million\"] = energy_encoded_df[\"Energy Consumption (Mwh)\"] / energy_encoded_df[\"Cost (Million $)\"]\n",
    "\n",
    "print(\"Data with New Feature (Consumption per $Million):\")\n",
    "print(energy_encoded_df)\n"
   ]
  },
  {
   "cell_type": "code",
   "execution_count": 23,
   "id": "18c059d2-015c-4e00-8f6e-52b3bf79c58b",
   "metadata": {},
   "outputs": [
    {
     "data": {
      "image/png": "[encoded data removed]",
      "text/plain": [
       "<Figure size 640x480 with 1 Axes>"
      ]
     },
     "metadata": {},
     "output_type": "display_data"
    }
   ],
   "source": [
    "import matplotlib.pyplot as plt\n",
    "\n",
    "# Sample data for energy consumption over 6 months (in MWh)\n",
    "months = ['Jan', 'Feb', 'Mar', 'Apr', 'May', 'Jun']\n",
    "energy_consumption = [1200, 1300, 1100, 1500, 1400, 1600]\n",
    "\n",
    "# Create a line plot\n",
    "plt.plot(months, energy_consumption, marker='o', color='b', linestyle='--')\n",
    "\n",
    "# Add titles and labels\n",
    "plt.title('Energy Consumption Over 6 Months')\n",
    "plt.xlabel('Month')\n",
    "plt.ylabel('Energy Consumption (MWh)')\n",
    "\n",
    "plt.show()\n"
   ]
  },
  {
   "cell_type": "code",
   "execution_count": null,
   "id": "c9cfd52f-4e64-417b-9441-877ab4eed4cf",
   "metadata": {},
   "outputs": [],
   "source": []
  }
 ],
 "metadata": {
  "kernelspec": {
   "display_name": "Python 3 (ipykernel)",
   "language": "python",
   "name": "python3"
  },
  "language_info": {
   "codemirror_mode": {
    "name": "ipython",
    "version": 3
   },
   "file_extension": ".py",
   "mimetype": "text/x-python",
   "name": "python",
   "nbconvert_exporter": "python",
   "pygments_lexer": "ipython3",
   "version": "3.12.8"
  }
 },
 "nbformat": 4,
 "nbformat_minor": 5
}
