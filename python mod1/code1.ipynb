{
 "cells": [
  {
   "cell_type": "code",
   "execution_count": 15,
   "id": "c857618a-4cc0-4708-98ee-b921831c90fe",
   "metadata": {},
   "outputs": [
    {
     "name": "stdout",
     "output_type": "stream",
     "text": [
      "Enter city : Bangalore\n"
     ]
    }
   ],
   "source": [
    "city_name = 'Bangalore'\n",
    "print(f\"Enter city : {city_name}\")"
   ]
  },
  {
   "cell_type": "code",
   "execution_count": 18,
   "id": "137c6374-fa16-4e01-9b1b-ba5a3e709c6e",
   "metadata": {},
   "outputs": [
    {
     "name": "stdout",
     "output_type": "stream",
     "text": [
      " sum of 45 and 55 is 100\n"
     ]
    }
   ],
   "source": [
    "a = 45\n",
    "b = 55\n",
    "print(f\" sum of {a} and {b} is {a+b}\")"
   ]
  },
  {
   "cell_type": "code",
   "execution_count": 22,
   "id": "eb84aed8-a398-4458-bd0c-746edaf864a1",
   "metadata": {},
   "outputs": [
    {
     "name": "stdout",
     "output_type": "stream",
     "text": [
      "the temperature of kolkata is 25°C\n"
     ]
    }
   ],
   "source": [
    "temperature = 25\n",
    "print(f\"the temperature of kolkata is {temperature}°C\")"
   ]
  },
  {
   "cell_type": "code",
   "execution_count": 24,
   "id": "e17352bd-a386-4331-a37b-31f6a31cea98",
   "metadata": {},
   "outputs": [
    {
     "name": "stdout",
     "output_type": "stream",
     "text": [
      "Weekly Temperatures : [25, 27, 28, 26, 24, 30, 29]\n"
     ]
    }
   ],
   "source": [
    "weekly_temperatures = [25,27,28,26,24,30,29]\n",
    "print(f\"Weekly Temperatures : {weekly_temperatures}\")"
   ]
  },
  {
   "cell_type": "code",
   "execution_count": 28,
   "id": "51fb5d1d-4f13-4e32-b9ea-4fff599f9115",
   "metadata": {},
   "outputs": [
    {
     "name": "stdout",
     "output_type": "stream",
     "text": [
      "City Data :  {'name': 'Bangalore', 'temperature': 25, 'carbon_footprint': 500.75, 'is_sustainable': False}\n"
     ]
    }
   ],
   "source": [
    "city_data = {\n",
    "    \"name\" : \"Bangalore\",\n",
    "    \"temperature\" : 25,\n",
    "    \"carbon_footprint\" : 500.75,\n",
    "    \"is_sustainable\" : False\n",
    "}\n",
    "print(\"City Data : \",city_data)"
   ]
  },
  {
   "cell_type": "code",
   "execution_count": null,
   "id": "6c059aa6-6a7f-4732-8034-bef77d08afc4",
   "metadata": {},
   "outputs": [],
   "source": []
  }
 ],
 "metadata": {
  "kernelspec": {
   "display_name": "Python 3 (ipykernel)",
   "language": "python",
   "name": "python3"
  },
  "language_info": {
   "codemirror_mode": {
    "name": "ipython",
    "version": 3
   },
   "file_extension": ".py",
   "mimetype": "text/x-python",
   "name": "python",
   "nbconvert_exporter": "python",
   "pygments_lexer": "ipython3",
   "version": "3.12.8"
  }
 },
 "nbformat": 4,
 "nbformat_minor": 5
}
